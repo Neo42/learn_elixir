{
 "cells": [
  {
   "cell_type": "markdown",
   "metadata": {},
   "source": [
    "## Elixir Basics"
   ]
  },
  {
   "cell_type": "code",
   "execution_count": 106,
   "metadata": {},
   "outputs": [
    {
     "data": {
      "text/plain": [
       "34"
      ]
     },
     "execution_count": 106,
     "metadata": {},
     "output_type": "execute_result"
    }
   ],
   "source": [
    "x = 34 # integer"
   ]
  },
  {
   "cell_type": "code",
   "execution_count": 103,
   "metadata": {},
   "outputs": [
    {
     "data": {
      "text/plain": [
       "10.0"
      ]
     },
     "execution_count": 103,
     "metadata": {},
     "output_type": "execute_result"
    }
   ],
   "source": [
    "x = 10.0 # float"
   ]
  },
  {
   "cell_type": "code",
   "execution_count": 104,
   "metadata": {},
   "outputs": [
    {
     "data": {
      "text/plain": [
       "\"String\""
      ]
     },
     "execution_count": 104,
     "metadata": {},
     "output_type": "execute_result"
    }
   ],
   "source": [
    "\"String\" # string"
   ]
  },
  {
   "cell_type": "code",
   "execution_count": 105,
   "metadata": {},
   "outputs": [
    {
     "data": {
      "text/plain": [
       "true"
      ]
     },
     "execution_count": 105,
     "metadata": {},
     "output_type": "execute_result"
    }
   ],
   "source": [
    "true || false"
   ]
  },
  {
   "cell_type": "code",
   "execution_count": 106,
   "metadata": {},
   "outputs": [
    {
     "data": {
      "text/plain": [
       "false"
      ]
     },
     "execution_count": 106,
     "metadata": {},
     "output_type": "execute_result"
    }
   ],
   "source": [
    "true && false"
   ]
  },
  {
   "cell_type": "code",
   "execution_count": 107,
   "metadata": {},
   "outputs": [
    {
     "data": {
      "text/plain": [
       ":foo"
      ]
     },
     "execution_count": 107,
     "metadata": {},
     "output_type": "execute_result"
    }
   ],
   "source": [
    ":foo # atom"
   ]
  },
  {
   "cell_type": "code",
   "execution_count": 108,
   "metadata": {},
   "outputs": [
    {
     "data": {
      "text/plain": [
       "[1]"
      ]
     },
     "execution_count": 108,
     "metadata": {},
     "output_type": "execute_result"
    }
   ],
   "source": [
    "# Everything is immutable\n",
    "x = []\n",
    "y = x ++ [1]\n",
    "y"
   ]
  },
  {
   "cell_type": "code",
   "execution_count": 109,
   "metadata": {},
   "outputs": [
    {
     "data": {
      "text/plain": [
       "[]"
      ]
     },
     "execution_count": 109,
     "metadata": {},
     "output_type": "execute_result"
    }
   ],
   "source": [
    "x"
   ]
  },
  {
   "cell_type": "code",
   "execution_count": 110,
   "metadata": {},
   "outputs": [
    {
     "data": {
      "text/plain": [
       "[1]"
      ]
     },
     "execution_count": 110,
     "metadata": {},
     "output_type": "execute_result"
    }
   ],
   "source": [
    "x = x ++ [1]"
   ]
  },
  {
   "cell_type": "code",
   "execution_count": 111,
   "metadata": {},
   "outputs": [
    {
     "data": {
      "text/plain": [
       "{\"Hao\", 25, :male}"
      ]
     },
     "execution_count": 111,
     "metadata": {},
     "output_type": "execute_result"
    }
   ],
   "source": [
    "{\"Hao\",25,:male} # tuple"
   ]
  },
  {
   "cell_type": "code",
   "execution_count": 103,
   "metadata": {},
   "outputs": [
    {
     "data": {
      "text/plain": [
       "%{\"a\" => 3, \"b\" => 4}"
      ]
     },
     "execution_count": 103,
     "metadata": {},
     "output_type": "execute_result"
    }
   ],
   "source": [
    " m = %{\"a\" => 3, \"b\" => 4} # maps, % is a must (dictionaries in python, objects in js)"
   ]
  },
  {
   "cell_type": "code",
   "execution_count": 113,
   "metadata": {},
   "outputs": [
    {
     "data": {
      "text/plain": [
       "%{a: 3, b: 4}"
      ]
     },
     "execution_count": 113,
     "metadata": {},
     "output_type": "execute_result"
    }
   ],
   "source": [
    " m = %{:a => 3, :b => 4} # with atoms"
   ]
  },
  {
   "cell_type": "code",
   "execution_count": 114,
   "metadata": {},
   "outputs": [
    {
     "data": {
      "text/plain": [
       "%{a: 3, b: 4}"
      ]
     },
     "execution_count": 114,
     "metadata": {},
     "output_type": "execute_result"
    }
   ],
   "source": [
    "# that is\n",
    " m = %{a: 3, b: 4} # with atoms"
   ]
  },
  {
   "cell_type": "code",
   "execution_count": 115,
   "metadata": {},
   "outputs": [
    {
     "data": {
      "text/plain": [
       "3"
      ]
     },
     "execution_count": 115,
     "metadata": {},
     "output_type": "execute_result"
    }
   ],
   "source": [
    "Map.get(m,:a) # getter with atoms"
   ]
  },
  {
   "cell_type": "code",
   "execution_count": 116,
   "metadata": {},
   "outputs": [
    {
     "data": {
      "text/plain": [
       "3"
      ]
     },
     "execution_count": 116,
     "metadata": {},
     "output_type": "execute_result"
    }
   ],
   "source": [
    "# that is\n",
    "m[:a] # with atoms"
   ]
  },
  {
   "cell_type": "code",
   "execution_count": 117,
   "metadata": {},
   "outputs": [
    {
     "data": {
      "text/plain": [
       "3"
      ]
     },
     "execution_count": 117,
     "metadata": {},
     "output_type": "execute_result"
    }
   ],
   "source": [
    "# also\n",
    "m.a # with atoms"
   ]
  },
  {
   "cell_type": "code",
   "execution_count": 118,
   "metadata": {},
   "outputs": [
    {
     "data": {
      "text/plain": [
       "false"
      ]
     },
     "execution_count": 118,
     "metadata": {},
     "output_type": "execute_result"
    }
   ],
   "source": [
    "9 / 2 == div 9,2"
   ]
  },
  {
   "cell_type": "code",
   "execution_count": 119,
   "metadata": {},
   "outputs": [
    {
     "data": {
      "text/plain": [
       "4"
      ]
     },
     "execution_count": 119,
     "metadata": {},
     "output_type": "execute_result"
    }
   ],
   "source": [
    "div 9,2"
   ]
  },
  {
   "cell_type": "code",
   "execution_count": 120,
   "metadata": {},
   "outputs": [
    {
     "data": {
      "text/plain": [
       "4.5"
      ]
     },
     "execution_count": 120,
     "metadata": {},
     "output_type": "execute_result"
    }
   ],
   "source": [
    "9 / 2 "
   ]
  },
  {
   "cell_type": "code",
   "execution_count": 121,
   "metadata": {},
   "outputs": [
    {
     "data": {
      "text/plain": [
       "1"
      ]
     },
     "execution_count": 121,
     "metadata": {},
     "output_type": "execute_result"
    }
   ],
   "source": [
    "rem 9,2 # remain (mod in haskell)"
   ]
  },
  {
   "cell_type": "code",
   "execution_count": 122,
   "metadata": {},
   "outputs": [
    {
     "data": {
      "text/plain": [
       "true"
      ]
     },
     "execution_count": 122,
     "metadata": {},
     "output_type": "execute_result"
    }
   ],
   "source": [
    "3 == 3.0"
   ]
  },
  {
   "cell_type": "code",
   "execution_count": 123,
   "metadata": {},
   "outputs": [
    {
     "data": {
      "text/plain": [
       "false"
      ]
     },
     "execution_count": 123,
     "metadata": {},
     "output_type": "execute_result"
    }
   ],
   "source": [
    "3 === 3.0"
   ]
  },
  {
   "cell_type": "code",
   "execution_count": 124,
   "metadata": {},
   "outputs": [
    {
     "data": {
      "text/plain": [
       "true"
      ]
     },
     "execution_count": 124,
     "metadata": {},
     "output_type": "execute_result"
    }
   ],
   "source": [
    "is_integer(3)"
   ]
  },
  {
   "cell_type": "code",
   "execution_count": 125,
   "metadata": {},
   "outputs": [
    {
     "data": {
      "text/plain": [
       "false"
      ]
     },
     "execution_count": 125,
     "metadata": {},
     "output_type": "execute_result"
    }
   ],
   "source": [
    "is_integer(3.0)"
   ]
  },
  {
   "cell_type": "code",
   "execution_count": 126,
   "metadata": {},
   "outputs": [
    {
     "data": {
      "text/plain": [
       "true"
      ]
     },
     "execution_count": 126,
     "metadata": {},
     "output_type": "execute_result"
    }
   ],
   "source": [
    "is_boolean(true)"
   ]
  },
  {
   "cell_type": "code",
   "execution_count": 127,
   "metadata": {},
   "outputs": [
    {
     "data": {
      "text/plain": [
       "false"
      ]
     },
     "execution_count": 127,
     "metadata": {},
     "output_type": "execute_result"
    }
   ],
   "source": [
    "is_boolean(\"YOLO\")"
   ]
  },
  {
   "cell_type": "code",
   "execution_count": 128,
   "metadata": {},
   "outputs": [
    {
     "data": {
      "text/plain": [
       "false"
      ]
     },
     "execution_count": 128,
     "metadata": {},
     "output_type": "execute_result"
    }
   ],
   "source": [
    "\"hello\" == 'hello'"
   ]
  },
  {
   "cell_type": "code",
   "execution_count": 129,
   "metadata": {},
   "outputs": [
    {
     "data": {
      "text/plain": [
       "\"hello world\""
      ]
     },
     "execution_count": 129,
     "metadata": {},
     "output_type": "execute_result"
    }
   ],
   "source": [
    "\"hello #{\"world\"}\""
   ]
  },
  {
   "cell_type": "code",
   "execution_count": 130,
   "metadata": {},
   "outputs": [
    {
     "data": {
      "text/plain": [
       "\"Hello\\n🌏\\nworld\""
      ]
     },
     "execution_count": 130,
     "metadata": {},
     "output_type": "execute_result"
    }
   ],
   "source": [
    "\"Hello\n",
    "🌏\n",
    "world\""
   ]
  },
  {
   "cell_type": "code",
   "execution_count": 131,
   "metadata": {},
   "outputs": [
    {
     "name": "stdout",
     "output_type": "stream",
     "text": [
      "Hello\n"
     ]
    },
    {
     "data": {
      "text/plain": [
       ":ok"
      ]
     },
     "execution_count": 131,
     "metadata": {},
     "output_type": "execute_result"
    }
   ],
   "source": [
    "IO.puts(\"Hello\")\n",
    "# return a result of :ok atom\n",
    "# Hello output is side effect"
   ]
  },
  {
   "cell_type": "code",
   "execution_count": 132,
   "metadata": {},
   "outputs": [
    {
     "name": "stdout",
     "output_type": "stream",
     "text": [
      "\"Hello\"\n"
     ]
    },
    {
     "data": {
      "text/plain": [
       "\"Hello\""
      ]
     },
     "execution_count": 132,
     "metadata": {},
     "output_type": "execute_result"
    }
   ],
   "source": [
    "IO.inspect(\"Hello\")\n",
    "# return \"Hello\"\n",
    "# side effect output \"Hello\""
   ]
  },
  {
   "cell_type": "code",
   "execution_count": 133,
   "metadata": {},
   "outputs": [
    {
     "data": {
      "text/plain": [
       "\"EASE\""
      ]
     },
     "execution_count": 133,
     "metadata": {},
     "output_type": "execute_result"
    }
   ],
   "source": [
    "String.upcase(\"ease\")"
   ]
  },
  {
   "cell_type": "code",
   "execution_count": 134,
   "metadata": {},
   "outputs": [
    {
     "name": "stdout",
     "output_type": "stream",
     "text": [
      "\u001b[0m\n",
      "\u001b[7m\u001b[33m                                     String                                     \u001b[0m\n",
      "\u001b[0m\n",
      "Strings in Elixir are UTF-8 encoded binaries.\n",
      "\u001b[0m\n",
      "Strings in Elixir are a sequence of Unicode characters, typically written\n",
      "between double quoted strings, such as \u001b[36m\"hello\"\u001b[0m and \u001b[36m\"héllò\"\u001b[0m.\n",
      "\u001b[0m\n",
      "In case a string must have a double-quote in itself, the double quotes must be\n",
      "escaped with a backslash, for example: \u001b[36m\"this is a string with \\\"double\n",
      "quotes\\\"\"\u001b[0m.\n",
      "\u001b[0m\n",
      "You can concatenate two strings with the \u001b[36m<>/2\u001b[0m operator:\n",
      "\u001b[0m\n",
      "\u001b[36m    iex> \"hello\" <> \" \" <> \"world\"\n",
      "    \"hello world\"\u001b[0m\n",
      "\u001b[0m\n",
      "\u001b[33m## Interpolation\u001b[0m\n",
      "\u001b[0m\n",
      "Strings in Elixir also support interpolation. This allows you to place some\n",
      "value in the middle of a string by using the \u001b[36m#{}\u001b[0m syntax:\n",
      "\u001b[0m\n",
      "\u001b[36m    iex> name = \"joe\"\n",
      "    iex> \"hello #{name}\"\n",
      "    \"hello joe\"\u001b[0m\n",
      "\u001b[0m\n",
      "Any Elixir expression is valid inside the interpolation. If a string is given,\n",
      "the string is interpolated as is. If any other value is given, Elixir will\n",
      "attempt to convert it to a string using the \u001b[36mString.Chars\u001b[0m protocol. This allows,\n",
      "for example, to output an integer from the interpolation:\n",
      "\u001b[0m\n",
      "\u001b[36m    iex> \"2 + 2 = #{2 + 2}\"\n",
      "    \"2 + 2 = 4\"\u001b[0m\n",
      "\u001b[0m\n",
      "In case the value you want to interpolate cannot be converted to a string,\n",
      "because it doesn't have an human textual representation, a protocol error will\n",
      "be raised.\n",
      "\u001b[0m\n",
      "\u001b[33m## Escape characters\u001b[0m\n",
      "\u001b[0m\n",
      "Besides allowing double-quotes to be escaped with a backslash, strings also\n",
      "support the following escape characters:\n",
      "\u001b[0m\n",
      "  • \u001b[36m\\a\u001b[0m - Bell\n",
      "  • \u001b[36m\\b\u001b[0m - Backspace\n",
      "  • \u001b[36m\\t\u001b[0m - Horizontal tab\n",
      "  • \u001b[36m\\n\u001b[0m - Line feed (New lines)\n",
      "  • \u001b[36m\\v\u001b[0m - Vertical tab\n",
      "  • \u001b[36m\\f\u001b[0m - Form feed\n",
      "  • \u001b[36m\\r\u001b[0m - Carriage return\n",
      "  • \u001b[36m\\e\u001b[0m - Command Escape\n",
      "  • \u001b[36m\\#\u001b[0m - Returns the \u001b[36m#\u001b[0m character itself, skipping interpolation\n",
      "  • \u001b[36m\\xNN\u001b[0m - A byte represented by the hexadecimal \u001b[36mNN\u001b[0m\n",
      "  • \u001b[36m\\uNNNN\u001b[0m - A Unicode code point represented by \u001b[36mNNNN\u001b[0m\n",
      "\u001b[0m\n",
      "Note it is generally not advised to use \u001b[36m\\xNN\u001b[0m in Elixir strings, as introducing\n",
      "an invalid byte sequence would make the string invalid. If you have to\n",
      "introduce a character by its hexadecimal representation, it is best to work\n",
      "with Unicode code points, such as \u001b[36m\\uNNNN\u001b[0m. In fact, understanding Unicode code\n",
      "points can be essential when doing low-level manipulations of string, so let's\n",
      "explore them in detail next.\n",
      "\u001b[0m\n",
      "\u001b[33m## Code points and grapheme cluster\u001b[0m\n",
      "\u001b[0m\n",
      "The functions in this module act according to the Unicode Standard, version\n",
      "12.1.0.\n",
      "\u001b[0m\n",
      "As per the standard, a code point is a single Unicode Character, which may be\n",
      "represented by one or more bytes.\n",
      "\u001b[0m\n",
      "For example, although the code point \"é\" is a single character, its underlying\n",
      "representation uses two bytes:\n",
      "\u001b[0m\n",
      "\u001b[36m    iex> String.length(\"é\")\n",
      "    1\n",
      "    iex> byte_size(\"é\")\n",
      "    2\u001b[0m\n",
      "\u001b[0m\n",
      "Furthermore, this module also presents the concept of grapheme cluster (from\n",
      "now on referenced as graphemes). Graphemes can consist of multiple code points\n",
      "that may be perceived as a single character by readers. For example, \"é\" can be\n",
      "represented either as a single \"e with acute\" code point or as the letter \"e\"\n",
      "followed by a \"combining acute accent\" (two code points):\n",
      "\u001b[0m\n",
      "\u001b[36m    iex> string = \"\\u0065\\u0301\"\n",
      "    iex> byte_size(string)\n",
      "    3\n",
      "    iex> String.length(string)\n",
      "    1\n",
      "    iex> String.codepoints(string)\n",
      "    [\"e\", \"́\"]\n",
      "    iex> String.graphemes(string)\n",
      "    [\"é\"]\u001b[0m\n",
      "\u001b[0m\n",
      "Although the example above is made of two characters, it is perceived by users\n",
      "as one.\n",
      "\u001b[0m\n",
      "Graphemes can also be two characters that are interpreted as one by some\n",
      "languages. For example, some languages may consider \"ch\" as a single character.\n",
      "However, since this information depends on the locale, it is not taken into\n",
      "account by this module.\n",
      "\u001b[0m\n",
      "In general, the functions in this module rely on the Unicode Standard, but do\n",
      "not contain any of the locale specific behaviour. More information about\n",
      "graphemes can be found in the Unicode Standard Annex #29\n",
      "(https://www.unicode.org/reports/tr29/).\n",
      "\u001b[0m\n",
      "For converting a binary to a different encoding and for Unicode normalization\n",
      "mechanisms, see Erlang's \u001b[36m:unicode\u001b[0m module.\n",
      "\u001b[0m\n",
      "\u001b[33m## String and binary operations\u001b[0m\n",
      "\u001b[0m\n",
      "To act according to the Unicode Standard, many functions in this module run in\n",
      "linear time, as they need to traverse the whole string considering the proper\n",
      "Unicode code points.\n",
      "\u001b[0m\n",
      "For example, \u001b[36mString.length/1\u001b[0m will take longer as the input grows. On the other\n",
      "hand, \u001b[36mKernel.byte_size/1\u001b[0m always runs in constant time (i.e. regardless of the\n",
      "input size).\n",
      "\u001b[0m\n",
      "This means often there are performance costs in using the functions in this\n",
      "module, compared to the more low-level operations that work directly with\n",
      "binaries:\n",
      "\u001b[0m\n",
      "  • \u001b[36mKernel.binary_part/3\u001b[0m - retrieves part of the binary\n",
      "  • \u001b[36mKernel.bit_size/1\u001b[0m and \u001b[36mKernel.byte_size/1\u001b[0m - size related functions\n",
      "  • \u001b[36mKernel.is_bitstring/1\u001b[0m and \u001b[36mKernel.is_binary/1\u001b[0m - type-check function\n",
      "  • Plus a number of functions for working with binaries (bytes) in the\n",
      "    \u001b[36m:binary\u001b[0m module (http://www.erlang.org/doc/man/binary.html)\n",
      "\u001b[0m\n",
      "There are many situations where using the \u001b[36mString\u001b[0m module can be avoided in favor\n",
      "of binary functions or pattern matching. For example, imagine you have a string\n",
      "\u001b[36mprefix\u001b[0m and you want to remove this prefix from another string named \u001b[36mfull\u001b[0m.\n",
      "\u001b[0m\n",
      "One may be tempted to write:\n",
      "\u001b[0m\n",
      "\u001b[36m    iex> take_prefix = fn full, prefix ->\n",
      "    ...>   base = String.length(prefix)\n",
      "    ...>   String.slice(full, base, String.length(full) - base)\n",
      "    ...> end\n",
      "    iex> take_prefix.(\"Mr. John\", \"Mr. \")\n",
      "    \"John\"\u001b[0m\n",
      "\u001b[0m\n",
      "Although the function above works, it performs poorly. To calculate the length\n",
      "of the string, we need to traverse it fully, so we traverse both \u001b[36mprefix\u001b[0m and\n",
      "\u001b[36mfull\u001b[0m strings, then slice the \u001b[36mfull\u001b[0m one, traversing it again.\n",
      "\u001b[0m\n",
      "A first attempt at improving it could be with ranges:\n",
      "\u001b[0m\n",
      "\u001b[36m    iex> take_prefix = fn full, prefix ->\n",
      "    ...>   base = String.length(prefix)\n",
      "    ...>   String.slice(full, base..-1)\n",
      "    ...> end\n",
      "    iex> take_prefix.(\"Mr. John\", \"Mr. \")\n",
      "    \"John\"\u001b[0m\n",
      "\u001b[0m\n",
      "While this is much better (we don't traverse \u001b[36mfull\u001b[0m twice), it could still be\n",
      "improved. In this case, since we want to extract a substring from a string, we\n",
      "can use \u001b[36mKernel.byte_size/1\u001b[0m and \u001b[36mKernel.binary_part/3\u001b[0m as there is no chance we\n",
      "will slice in the middle of a code point made of more than one byte:\n",
      "\u001b[0m\n",
      "\u001b[36m    iex> take_prefix = fn full, prefix ->\n",
      "    ...>   base = byte_size(prefix)\n",
      "    ...>   binary_part(full, base, byte_size(full) - base)\n",
      "    ...> end\n",
      "    iex> take_prefix.(\"Mr. John\", \"Mr. \")\n",
      "    \"John\"\u001b[0m\n",
      "\u001b[0m\n",
      "Or simply use pattern matching:\n",
      "\u001b[0m\n",
      "\u001b[36m    iex> take_prefix = fn full, prefix ->\n",
      "    ...>   base = byte_size(prefix)\n",
      "    ...>   <<_::binary-size(base), rest::binary>> = full\n",
      "    ...>   rest\n",
      "    ...> end\n",
      "    iex> take_prefix.(\"Mr. John\", \"Mr. \")\n",
      "    \"John\"\u001b[0m\n",
      "\u001b[0m\n",
      "On the other hand, if you want to dynamically slice a string based on an\n",
      "integer value, then using \u001b[36mString.slice/3\u001b[0m is the best option as it guarantees we\n",
      "won't incorrectly split a valid code point into multiple bytes.\n",
      "\u001b[0m\n",
      "\u001b[33m## Integer code points\u001b[0m\n",
      "\u001b[0m\n",
      "Although code points are represented as integers, this module represents code\n",
      "points in their encoded format as strings. For example:\n",
      "\u001b[0m\n",
      "\u001b[36m    iex> String.codepoints(\"olá\")\n",
      "    [\"o\", \"l\", \"á\"]\u001b[0m\n",
      "\u001b[0m\n",
      "There are a couple of ways to retrieve the character code point. One may use\n",
      "the \u001b[36m?\u001b[0m construct:\n",
      "\u001b[0m\n",
      "\u001b[36m    iex> ?o\n",
      "    111\n",
      "    \n",
      "    iex> ?á\n",
      "    225\u001b[0m\n",
      "\u001b[0m\n",
      "Or also via pattern matching:\n",
      "\u001b[0m\n",
      "\u001b[36m    iex> <<aacute::utf8>> = \"á\"\n",
      "    iex> aacute\n",
      "    225\u001b[0m\n",
      "\u001b[0m\n",
      "As we have seen above, code points can be inserted into a string by their\n",
      "hexadecimal code:\n",
      "\u001b[0m\n",
      "\u001b[36m    iex> \"ol\\u00E1\"\n",
      "    \"olá\"\u001b[0m\n",
      "\u001b[0m\n",
      "Finally, to convert a String into a list of integer code points, known as\n",
      "\"charlists\" in Elixir, you can call \u001b[36mString.to_charlist\u001b[0m:\n",
      "\u001b[0m\n",
      "\u001b[36m    iex> String.to_charlist(\"olá\")\n",
      "    [111, 108, 225]\u001b[0m\n",
      "\u001b[0m\n",
      "\u001b[33m## Self-synchronization\u001b[0m\n",
      "\u001b[0m\n",
      "The UTF-8 encoding is self-synchronizing. This means that if malformed data\n",
      "(i.e., data that is not possible according to the definition of the encoding)\n",
      "is encountered, only one code point needs to be rejected.\n",
      "\u001b[0m\n",
      "This module relies on this behaviour to ignore such invalid characters. For\n",
      "example, \u001b[36mlength/1\u001b[0m will return a correct result even if an invalid code point is\n",
      "fed into it.\n",
      "\u001b[0m\n",
      "In other words, this module expects invalid data to be detected elsewhere,\n",
      "usually when retrieving data from the external source. For example, a driver\n",
      "that reads strings from a database will be responsible to check the validity of\n",
      "the encoding. \u001b[36mString.chunk/2\u001b[0m can be used for breaking a string into valid and\n",
      "invalid parts.\n",
      "\u001b[0m\n",
      "\u001b[33m## Compile binary patterns\u001b[0m\n",
      "\u001b[0m\n",
      "Many functions in this module work with patterns. For example, \u001b[36mString.split/3\u001b[0m\n",
      "can split a string into multiple strings given a pattern. This pattern can be a\n",
      "string, a list of strings or a compiled pattern:\n",
      "\u001b[0m\n",
      "\u001b[36m    iex> String.split(\"foo bar\", \" \")\n",
      "    [\"foo\", \"bar\"]\n",
      "    \n",
      "    iex> String.split(\"foo bar!\", [\" \", \"!\"])\n",
      "    [\"foo\", \"bar\", \"\"]\n",
      "    \n",
      "    iex> pattern = :binary.compile_pattern([\" \", \"!\"])\n",
      "    iex> String.split(\"foo bar!\", pattern)\n",
      "    [\"foo\", \"bar\", \"\"]\u001b[0m\n",
      "\u001b[0m\n",
      "The compiled pattern is useful when the same match will be done over and over\n",
      "again. Note though that the compiled pattern cannot be stored in a module\n",
      "attribute as the pattern is generated at runtime and does not survive compile\n",
      "time.\n",
      "\u001b[0m\n"
     ]
    }
   ],
   "source": [
    "h(String)"
   ]
  },
  {
   "cell_type": "code",
   "execution_count": 135,
   "metadata": {},
   "outputs": [
    {
     "data": {
      "text/plain": [
       "false"
      ]
     },
     "execution_count": 135,
     "metadata": {},
     "output_type": "execute_result"
    }
   ],
   "source": [
    "[1,2] ++ 1 == [1,2] ++ [1]"
   ]
  },
  {
   "cell_type": "code",
   "execution_count": 136,
   "metadata": {},
   "outputs": [
    {
     "data": {
      "text/plain": [
       "[1, 3]"
      ]
     },
     "execution_count": 136,
     "metadata": {},
     "output_type": "execute_result"
    }
   ],
   "source": [
    "[1,2,3] -- [2]"
   ]
  },
  {
   "cell_type": "code",
   "execution_count": 137,
   "metadata": {},
   "outputs": [
    {
     "ename": "ArgumentError",
     "evalue": "1",
     "output_type": "error",
     "traceback": [
      "** (ArgumentError) \"argument error\""
     ]
    }
   ],
   "source": [
    "[1,2,3] -- 2"
   ]
  },
  {
   "cell_type": "code",
   "execution_count": 137,
   "metadata": {},
   "outputs": [
    {
     "data": {
      "text/plain": [
       "1"
      ]
     },
     "execution_count": 137,
     "metadata": {},
     "output_type": "execute_result"
    }
   ],
   "source": [
    "lst = [1,2,4,6]\n",
    "hd(lst)"
   ]
  },
  {
   "cell_type": "code",
   "execution_count": 138,
   "metadata": {},
   "outputs": [
    {
     "data": {
      "text/plain": [
       "[2, 4, 6]"
      ]
     },
     "execution_count": 138,
     "metadata": {},
     "output_type": "execute_result"
    }
   ],
   "source": [
    "tl(lst)"
   ]
  },
  {
   "cell_type": "code",
   "execution_count": 139,
   "metadata": {},
   "outputs": [
    {
     "name": "stdout",
     "output_type": "stream",
     "text": [
      "\u001b[33mTerm\u001b[0m\n",
      "\u001b[22m  35\u001b[0m\n",
      "\u001b[33mData type\u001b[0m\n",
      "\u001b[22m  Integer\u001b[0m\n",
      "\u001b[33mReference modules\u001b[0m\n",
      "\u001b[22m  Integer\u001b[0m\n",
      "\u001b[33mImplemented protocols\u001b[0m\n",
      "\u001b[22m  Ecto.DataType, IEx.Info, Inspect, List.Chars, Poison.Decoder, Poison.Encoder, String.Chars\u001b[0m\n"
     ]
    }
   ],
   "source": [
    "i 35"
   ]
  },
  {
   "cell_type": "code",
   "execution_count": 140,
   "metadata": {},
   "outputs": [
    {
     "name": "stdout",
     "output_type": "stream",
     "text": [
      "\u001b[33mTerm\u001b[0m\n",
      "\u001b[22m  \"Hello\"\u001b[0m\n",
      "\u001b[33mData type\u001b[0m\n",
      "\u001b[22m  BitString\u001b[0m\n",
      "\u001b[33mByte size\u001b[0m\n",
      "\u001b[22m  5\u001b[0m\n",
      "\u001b[33mDescription\u001b[0m\n",
      "\u001b[22m  This is a string: a UTF-8 encoded binary. It's printed surrounded by\n",
      "  \"double quotes\" because all UTF-8 encoded code points in it are printable.\u001b[0m\n",
      "\u001b[33mRaw representation\u001b[0m\n",
      "\u001b[22m  <<72, 101, 108, 108, 111>>\u001b[0m\n",
      "\u001b[33mReference modules\u001b[0m\n",
      "\u001b[22m  String, :binary\u001b[0m\n",
      "\u001b[33mImplemented protocols\u001b[0m\n",
      "\u001b[22m  Collectable, Ecto.DataType, Ecto.Queryable, IEx.Info, Inspect, List.Chars, Poison.Decoder, Poison.Encoder, String.Chars\u001b[0m\n"
     ]
    }
   ],
   "source": [
    "i \"Hello\""
   ]
  },
  {
   "cell_type": "code",
   "execution_count": 141,
   "metadata": {},
   "outputs": [
    {
     "data": {
      "text/plain": [
       "[\"Hao\", 26, :male]"
      ]
     },
     "execution_count": 141,
     "metadata": {},
     "output_type": "execute_result"
    }
   ],
   "source": [
    "t = {\"Hao\", 26, :male}\n",
    "[elem(t, 0),elem(t,1),elem(t,2)]"
   ]
  },
  {
   "cell_type": "code",
   "execution_count": 142,
   "metadata": {},
   "outputs": [
    {
     "ename": "CompileError",
     "evalue": "1",
     "output_type": "error",
     "traceback": [
      "** (CompileError) console:1 \"undefined function undefined_function/1\""
     ]
    }
   ],
   "source": [
    "undefined_function(3) \n",
    "# undefined_function/1 in the error msg below means\n",
    "# the function \"undefined_function\" has an arity of 1\n",
    "# meaning it takes in 1 parameter\n",
    "# notation is function_name/arity"
   ]
  },
  {
   "cell_type": "code",
   "execution_count": 142,
   "metadata": {},
   "outputs": [
    {
     "data": {
      "text/plain": [
       "2"
      ]
     },
     "execution_count": 142,
     "metadata": {},
     "output_type": "execute_result"
    }
   ],
   "source": [
    "2 = 2"
   ]
  },
  {
   "cell_type": "code",
   "execution_count": 104,
   "metadata": {},
   "outputs": [
    {
     "ename": "MatchError",
     "evalue": "1",
     "output_type": "error",
     "traceback": [
      "** %MatchError{term: 2}"
     ]
    }
   ],
   "source": [
    "# Matching Operator\n",
    "\n",
    "x = 1 # assignment\n",
    "1 = x # matching\n",
    "\n",
    "# With the pin operator\n",
    "^x = 1 # also matching\n",
    "^x = 2 # error"
   ]
  },
  {
   "cell_type": "code",
   "execution_count": 104,
   "metadata": {},
   "outputs": [
    {
     "data": {
      "text/plain": [
       "{:ok, \"File Contents\"}"
      ]
     },
     "execution_count": 104,
     "metadata": {},
     "output_type": "execute_result"
    }
   ],
   "source": [
    "a = {:ok, \"File Contents\"}"
   ]
  },
  {
   "cell_type": "code",
   "execution_count": 144,
   "metadata": {},
   "outputs": [
    {
     "data": {
      "text/plain": [
       "{:error, \"Error Description\"}"
      ]
     },
     "execution_count": 144,
     "metadata": {},
     "output_type": "execute_result"
    }
   ],
   "source": [
    "b = {:error, \"Error Description\"}"
   ]
  },
  {
   "cell_type": "code",
   "execution_count": 145,
   "metadata": {},
   "outputs": [
    {
     "data": {
      "text/plain": [
       "{:ok, \"File Contents\"}"
      ]
     },
     "execution_count": 145,
     "metadata": {},
     "output_type": "execute_result"
    }
   ],
   "source": [
    "{:ok, x} = a"
   ]
  },
  {
   "cell_type": "code",
   "execution_count": 146,
   "metadata": {},
   "outputs": [
    {
     "data": {
      "text/plain": [
       "\"File Contents\""
      ]
     },
     "execution_count": 146,
     "metadata": {},
     "output_type": "execute_result"
    }
   ],
   "source": [
    "x"
   ]
  },
  {
   "cell_type": "code",
   "execution_count": 147,
   "metadata": {},
   "outputs": [
    {
     "data": {
      "text/plain": [
       "{:error, \"Error Description\"}"
      ]
     },
     "execution_count": 147,
     "metadata": {},
     "output_type": "execute_result"
    }
   ],
   "source": [
    "{:error, x} = b"
   ]
  },
  {
   "cell_type": "code",
   "execution_count": 148,
   "metadata": {},
   "outputs": [
    {
     "ename": "MatchError",
     "evalue": "1",
     "output_type": "error",
     "traceback": [
      "** %MatchError{term: {:error, \"Error Description\"}}"
     ]
    }
   ],
   "source": [
    "{:ok, x} = b"
   ]
  },
  {
   "cell_type": "code",
   "execution_count": 148,
   "metadata": {},
   "outputs": [
    {
     "data": {
      "text/plain": [
       "\"Success: File Contents\""
      ]
     },
     "execution_count": 148,
     "metadata": {},
     "output_type": "execute_result"
    }
   ],
   "source": [
    "case a do\n",
    "  {:ok, x} -> \"Success: #{x}\"\n",
    "  {:error, y} -> \"Error: #{y}\"\n",
    "  _ -> \"Default value\"\n",
    "end"
   ]
  },
  {
   "cell_type": "code",
   "execution_count": 149,
   "metadata": {},
   "outputs": [
    {
     "data": {
      "text/plain": [
       "\"Error: Error Description\""
      ]
     },
     "execution_count": 149,
     "metadata": {},
     "output_type": "execute_result"
    }
   ],
   "source": [
    "case b do\n",
    "  {:ok, x} -> \"Success: #{x}\"\n",
    "  {:error, y} -> \"Error: #{y}\"\n",
    "  _ -> \"Default value\"\n",
    "end"
   ]
  },
  {
   "cell_type": "code",
   "execution_count": 150,
   "metadata": {},
   "outputs": [
    {
     "data": {
      "text/plain": [
       "[1, 2, 3, 4]"
      ]
     },
     "execution_count": 150,
     "metadata": {},
     "output_type": "execute_result"
    }
   ],
   "source": [
    "[head | tail] = [1,2,3,4]"
   ]
  },
  {
   "cell_type": "code",
   "execution_count": 151,
   "metadata": {},
   "outputs": [
    {
     "data": {
      "text/plain": [
       "[1, [2, 3, 4]]"
      ]
     },
     "execution_count": 151,
     "metadata": {},
     "output_type": "execute_result"
    }
   ],
   "source": [
    "[head, tail]"
   ]
  },
  {
   "cell_type": "code",
   "execution_count": 152,
   "metadata": {},
   "outputs": [
    {
     "data": {
      "text/plain": [
       "[1, 2, 3, 4]"
      ]
     },
     "execution_count": 152,
     "metadata": {},
     "output_type": "execute_result"
    }
   ],
   "source": [
    "[head | _] = [1, 2, 3, 4]"
   ]
  },
  {
   "cell_type": "code",
   "execution_count": 153,
   "metadata": {},
   "outputs": [
    {
     "data": {
      "text/plain": [
       "1"
      ]
     },
     "execution_count": 153,
     "metadata": {},
     "output_type": "execute_result"
    }
   ],
   "source": [
    "head"
   ]
  },
  {
   "cell_type": "code",
   "execution_count": 154,
   "metadata": {},
   "outputs": [
    {
     "data": {
      "text/plain": [
       "\"Nope\""
      ]
     },
     "execution_count": 154,
     "metadata": {},
     "output_type": "execute_result"
    }
   ],
   "source": [
    "# Condition\n",
    "age = 16\n",
    "\n",
    "if age >= 18 do\n",
    "  \"Can drive\" # implicit return\n",
    "else\n",
    "  \"Nope\"\n",
    "end"
   ]
  },
  {
   "cell_type": "code",
   "execution_count": 155,
   "metadata": {},
   "outputs": [
    {
     "data": {
      "text/plain": [
       "nil"
      ]
     },
     "execution_count": 155,
     "metadata": {},
     "output_type": "execute_result"
    }
   ],
   "source": [
    "if age >= 18 do\n",
    "  \"Can drive\" # implicit return\n",
    "end"
   ]
  },
  {
   "cell_type": "code",
   "execution_count": 156,
   "metadata": {},
   "outputs": [
    {
     "data": {
      "text/plain": [
       "\"Stop here.\""
      ]
     },
     "execution_count": 156,
     "metadata": {},
     "output_type": "execute_result"
    }
   ],
   "source": [
    "# Exclusive conditional operation\n",
    "cond do\n",
    "  1 + 1 === 2 -> \"Stop here.\"\n",
    "  2 === 2 -> \"Never run.\"\n",
    "  3 !== 2 -> \"Me either\"\n",
    "end"
   ]
  },
  {
   "cell_type": "code",
   "execution_count": 157,
   "metadata": {},
   "outputs": [
    {
     "data": {
      "text/plain": [
       "\"You are too young.\""
      ]
     },
     "execution_count": 157,
     "metadata": {},
     "output_type": "execute_result"
    }
   ],
   "source": [
    "unless age > 18 do \"You are too young.\" end"
   ]
  },
  {
   "cell_type": "markdown",
   "metadata": {},
   "source": [
    "## Modular Thinking in Elixir"
   ]
  },
  {
   "cell_type": "code",
   "execution_count": 105,
   "metadata": {},
   "outputs": [
    {
     "name": "stdout",
     "output_type": "stream",
     "text": [
      "3\n"
     ]
    },
    {
     "name": "stderr",
     "output_type": "stream",
     "text": [
      "\u001b[33mwarning: \u001b[0mredefining module Math (current version defined in memory)\n",
      "  /Users/Jarvis/Desktop/learn_elixir/module.exs:1\n",
      "\n"
     ]
    },
    {
     "data": {
      "text/plain": [
       "[Math]"
      ]
     },
     "execution_count": 105,
     "metadata": {},
     "output_type": "execute_result"
    }
   ],
   "source": [
    "# load a file\n",
    "c(\"../module.exs\")  # $ elixir module.exs"
   ]
  },
  {
   "cell_type": "code",
   "execution_count": 159,
   "metadata": {},
   "outputs": [
    {
     "name": "stderr",
     "output_type": "stream",
     "text": [
      "\u001b[33mwarning: \u001b[0mredefining module Math (current version defined in memory)\n",
      "  nofile:1\n",
      "\n",
      "\u001b[33mwarning: \u001b[0mfunction do_sum/2 is unused\n",
      "  nofile:7\n",
      "\n"
     ]
    },
    {
     "data": {
      "text/plain": [
       "{:module, Math, <<70, 79, 82, 49, 0, 0, 8, 96, 66, 69, 65, 77, 65, 116, 85, 56, 0, 0, 0, 204, 0, 0, 0, 24, 11, 69, 108, 105, 120, 105, 114, 46, 77, 97, 116, 104, 8, 95, 95, 105, 110, 102, 111, 95, 95, 10, 97, ...>>, {:zero?, 1}}"
      ]
     },
     "execution_count": 159,
     "metadata": {},
     "output_type": "execute_result"
    }
   ],
   "source": [
    "defmodule Math do\n",
    "  def sum(a, b) do\n",
    "    a + b\n",
    "  end\n",
    "\n",
    "  # private function\n",
    "  defp do_sum(a,b) do\n",
    "    a + b\n",
    "  end\n",
    "  \n",
    "  def div(x, y) do\n",
    "    case y do\n",
    "      0 -> {:error, \"Can't divide by zero\"}\n",
    "      _ -> { :ok, \"value is #{x/y}\"}\n",
    "    end\n",
    "  end\n",
    "  \n",
    "  def zero?(0), do: true # when zero?(0) gets invoked, return true\n",
    "  def zero?(x) when is_integer(x), do: false # else: if is_integer(x) return false\n",
    "  def zero?(_), do: \"Not an integer.\" # else: return \"Not an integer.\"\n",
    "end"
   ]
  },
  {
   "cell_type": "code",
   "execution_count": 160,
   "metadata": {},
   "outputs": [
    {
     "data": {
      "text/plain": [
       "3"
      ]
     },
     "execution_count": 160,
     "metadata": {},
     "output_type": "execute_result"
    }
   ],
   "source": [
    "Math.sum(1, 2)"
   ]
  },
  {
   "cell_type": "code",
   "execution_count": 161,
   "metadata": {},
   "outputs": [
    {
     "ename": "UndefinedFunctionError",
     "evalue": "1",
     "output_type": "error",
     "traceback": [
      "** %UndefinedFunctionError{arity: 2, function: :do_sum, message: nil, module: Math, reason: nil}"
     ]
    }
   ],
   "source": [
    "Math.do_sum(1, 2)"
   ]
  },
  {
   "cell_type": "code",
   "execution_count": 161,
   "metadata": {},
   "outputs": [
    {
     "data": {
      "text/plain": [
       "{:error, \"Can't divide by zero\"}"
      ]
     },
     "execution_count": 161,
     "metadata": {},
     "output_type": "execute_result"
    }
   ],
   "source": [
    "Math.div(1, 0)"
   ]
  },
  {
   "cell_type": "code",
   "execution_count": 162,
   "metadata": {},
   "outputs": [
    {
     "data": {
      "text/plain": [
       "{:ok, \"value is 1.0\"}"
      ]
     },
     "execution_count": 162,
     "metadata": {},
     "output_type": "execute_result"
    }
   ],
   "source": [
    "Math.div(1, 1)"
   ]
  },
  {
   "cell_type": "code",
   "execution_count": 163,
   "metadata": {},
   "outputs": [
    {
     "data": {
      "text/plain": [
       "true"
      ]
     },
     "execution_count": 163,
     "metadata": {},
     "output_type": "execute_result"
    }
   ],
   "source": [
    "Math.zero?(0)"
   ]
  },
  {
   "cell_type": "code",
   "execution_count": 169,
   "metadata": {},
   "outputs": [
    {
     "data": {
      "text/plain": [
       "false"
      ]
     },
     "execution_count": 169,
     "metadata": {},
     "output_type": "execute_result"
    }
   ],
   "source": [
    "Math.zero?(1)"
   ]
  },
  {
   "cell_type": "code",
   "execution_count": 165,
   "metadata": {},
   "outputs": [
    {
     "data": {
      "text/plain": [
       "\"Not an integer.\""
      ]
     },
     "execution_count": 165,
     "metadata": {},
     "output_type": "execute_result"
    }
   ],
   "source": [
    "Math.zero?(\"Yo\")"
   ]
  },
  {
   "cell_type": "code",
   "execution_count": 166,
   "metadata": {},
   "outputs": [
    {
     "data": {
      "text/plain": [
       "#Function<43.79398840/2 in :erl_eval.expr/5>"
      ]
     },
     "execution_count": 166,
     "metadata": {},
     "output_type": "execute_result"
    }
   ],
   "source": [
    "add = fn(a, b) -> a + b end"
   ]
  },
  {
   "cell_type": "code",
   "execution_count": 167,
   "metadata": {},
   "outputs": [
    {
     "data": {
      "text/plain": [
       "3"
      ]
     },
     "execution_count": 167,
     "metadata": {},
     "output_type": "execute_result"
    }
   ],
   "source": [
    "add.(1,2) # That's wired, the dot"
   ]
  },
  {
   "cell_type": "code",
   "execution_count": 11,
   "metadata": {},
   "outputs": [
    {
     "name": "stderr",
     "output_type": "stream",
     "text": [
      "\u001b[33mwarning: \u001b[0mredefining module Concat (current version defined in memory)\n",
      "  nofile:2\n",
      "\n"
     ]
    },
    {
     "data": {
      "text/plain": [
       "{:module, Concat, <<70, 79, 82, 49, 0, 0, 6, 48, 66, 69, 65, 77, 65, 116, 85, 56, 0, 0, 0, 150, 0, 0, 0, 16, 13, 69, 108, 105, 120, 105, 114, 46, 67, 111, 110, 99, 97, 116, 8, 95, 95, 105, 110, 102, 111, 95, 95, ...>>, {:join, 3}}"
      ]
     },
     "execution_count": 11,
     "metadata": {},
     "output_type": "execute_result"
    }
   ],
   "source": [
    "# Default operator\n",
    "defmodule Concat do\n",
    "  def join(a, b, sep \\\\ \" \") do\n",
    "    a <> sep <> b # <>: concat operation\n",
    "  end\n",
    "end"
   ]
  },
  {
   "cell_type": "code",
   "execution_count": 7,
   "metadata": {},
   "outputs": [
    {
     "data": {
      "text/plain": [
       "\"Hello Wolrd\""
      ]
     },
     "execution_count": 7,
     "metadata": {},
     "output_type": "execute_result"
    }
   ],
   "source": [
    "Concat.join(\"Hello\",\"Wolrd\")"
   ]
  },
  {
   "cell_type": "code",
   "execution_count": 12,
   "metadata": {},
   "outputs": [
    {
     "data": {
      "text/plain": [
       "\"Hello_Wolrd\""
      ]
     },
     "execution_count": 12,
     "metadata": {},
     "output_type": "execute_result"
    }
   ],
   "source": [
    "Concat.join(\"Hello\",\"Wolrd\",\"_\")"
   ]
  },
  {
   "cell_type": "code",
   "execution_count": 107,
   "metadata": {},
   "outputs": [
    {
     "name": "stderr",
     "output_type": "stream",
     "text": [
      "\u001b[33mwarning: \u001b[0mredefining module PipeTest (current version defined in memory)\n",
      "  nofile:2\n",
      "\n"
     ]
    },
    {
     "data": {
      "text/plain": [
       "{:module, PipeTest, <<70, 79, 82, 49, 0, 0, 7, 188, 66, 69, 65, 77, 65, 116, 85, 56, 0, 0, 0, 186, 0, 0, 0, 22, 15, 69, 108, 105, 120, 105, 114, 46, 80, 105, 112, 101, 84, 101, 115, 116, 8, 95, 95, 105, 110, 102, 111, ...>>, {:sst, 1}}"
      ]
     },
     "execution_count": 107,
     "metadata": {},
     "output_type": "execute_result"
    }
   ],
   "source": [
    "# Pipe Operator\n",
    "defmodule PipeTest do\n",
    "  def square(x), do: x * x\n",
    "  def sum(l, acc \\\\ 0), do: acc + Enum.sum(l)\n",
    "  def sst(list), do:\n",
    "    list \n",
    "    |> tl\n",
    "    |> IO.inspect # for debugging\n",
    "    |> sum(2) # sum(tl(list), 2)\n",
    "    |> square\n",
    "end"
   ]
  },
  {
   "cell_type": "code",
   "execution_count": 108,
   "metadata": {},
   "outputs": [
    {
     "data": {
      "text/plain": [
       "45"
      ]
     },
     "execution_count": 108,
     "metadata": {},
     "output_type": "execute_result"
    }
   ],
   "source": [
    "PipeTest.sum([1, 2, 3, 4], 35)"
   ]
  },
  {
   "cell_type": "code",
   "execution_count": 86,
   "metadata": {},
   "outputs": [
    {
     "data": {
      "text/plain": [
       "25"
      ]
     },
     "execution_count": 86,
     "metadata": {},
     "output_type": "execute_result"
    }
   ],
   "source": [
    "PipeTest.square(5)"
   ]
  },
  {
   "cell_type": "code",
   "execution_count": 37,
   "metadata": {},
   "outputs": [
    {
     "name": "stdout",
     "output_type": "stream",
     "text": [
      "[2, 3, 4, 5]\n"
     ]
    },
    {
     "data": {
      "text/plain": [
       "256"
      ]
     },
     "execution_count": 37,
     "metadata": {},
     "output_type": "execute_result"
    }
   ],
   "source": [
    "PipeTest.sst([1, 2, 3, 4, 5])"
   ]
  },
  {
   "cell_type": "code",
   "execution_count": 41,
   "metadata": {},
   "outputs": [
    {
     "data": {
      "text/plain": [
       "[2, 3, 4]"
      ]
     },
     "execution_count": 41,
     "metadata": {},
     "output_type": "execute_result"
    }
   ],
   "source": [
    "for x <- [1, 2, 3], do: x + 1 # map in JS"
   ]
  },
  {
   "cell_type": "code",
   "execution_count": 48,
   "metadata": {},
   "outputs": [
    {
     "data": {
      "text/plain": [
       "[\"1 cow\", \"2 cows\", \"3 cows\", \"4 cows\", \"5 cows\"]"
      ]
     },
     "execution_count": 48,
     "metadata": {},
     "output_type": "execute_result"
    }
   ],
   "source": [
    "for x <- 1..5 do\n",
    "  case x do \n",
    "    1 -> \"#{x} cow\" \n",
    "    _ -> \"#{x} cows\"\n",
    "  end\n",
    "end"
   ]
  },
  {
   "cell_type": "code",
   "execution_count": 93,
   "metadata": {},
   "outputs": [
    {
     "name": "stderr",
     "output_type": "stream",
     "text": [
      "\u001b[33mwarning: \u001b[0mredefining module FP (current version defined in memory)\n",
      "  nofile:1\n",
      "\n"
     ]
    },
    {
     "data": {
      "text/plain": [
       "{:module, FP, <<70, 79, 82, 49, 0, 0, 6, 68, 66, 69, 65, 77, 65, 116, 85, 56, 0, 0, 0, 135, 0, 0, 0, 14, 9, 69, 108, 105, 120, 105, 114, 46, 70, 80, 8, 95, 95, 105, 110, 102, 111, 95, 95, 10, 97, 116, 116, ...>>, {:reduce, 3}}"
      ]
     },
     "execution_count": 93,
     "metadata": {},
     "output_type": "execute_result"
    }
   ],
   "source": [
    "defmodule FP do\n",
    "  def reduce(lst, f, acc \\\\ 0) do\n",
    "    case lst do\n",
    "      [] -> acc\n",
    "      [hd | tl] -> reduce(tl, f, f.(acc, hd))\n",
    "    end\n",
    "  end\n",
    "end"
   ]
  },
  {
   "cell_type": "code",
   "execution_count": 87,
   "metadata": {},
   "outputs": [
    {
     "data": {
      "text/plain": [
       "6"
      ]
     },
     "execution_count": 87,
     "metadata": {},
     "output_type": "execute_result"
    }
   ],
   "source": [
    "FP.reduce([1, 2, 3], fn(a,b) -> a + b end)"
   ]
  },
  {
   "cell_type": "markdown",
   "metadata": {},
   "source": [
    "File Handling\n"
   ]
  },
  {
   "cell_type": "code",
   "execution_count": 94,
   "metadata": {
    "scrolled": true
   },
   "outputs": [
    {
     "data": {
      "text/plain": [
       "{:ok, #PID<0.677.0>}"
      ]
     },
     "execution_count": 94,
     "metadata": {},
     "output_type": "execute_result"
    }
   ],
   "source": [
    "{:ok, file} = File.open(\"hello\", [:write])"
   ]
  },
  {
   "cell_type": "code",
   "execution_count": 95,
   "metadata": {},
   "outputs": [
    {
     "data": {
      "text/plain": [
       ":ok"
      ]
     },
     "execution_count": 95,
     "metadata": {},
     "output_type": "execute_result"
    }
   ],
   "source": [
    "IO.binwrite(file, \"World\")"
   ]
  },
  {
   "cell_type": "code",
   "execution_count": 96,
   "metadata": {},
   "outputs": [
    {
     "data": {
      "text/plain": [
       ":ok"
      ]
     },
     "execution_count": 96,
     "metadata": {},
     "output_type": "execute_result"
    }
   ],
   "source": [
    "File.close(file)"
   ]
  },
  {
   "cell_type": "code",
   "execution_count": 97,
   "metadata": {},
   "outputs": [
    {
     "data": {
      "text/plain": [
       "{:ok, \"World\"}"
      ]
     },
     "execution_count": 97,
     "metadata": {},
     "output_type": "execute_result"
    }
   ],
   "source": [
    "{:ok, content} = File.read(\"hello\")"
   ]
  },
  {
   "cell_type": "code",
   "execution_count": 98,
   "metadata": {},
   "outputs": [
    {
     "data": {
      "text/plain": [
       "\"World\""
      ]
     },
     "execution_count": 98,
     "metadata": {},
     "output_type": "execute_result"
    }
   ],
   "source": [
    "content"
   ]
  },
  {
   "cell_type": "code",
   "execution_count": 101,
   "metadata": {},
   "outputs": [
    {
     "data": {
      "text/plain": [
       "{:error, :enoent}"
      ]
     },
     "execution_count": 101,
     "metadata": {},
     "output_type": "execute_result"
    }
   ],
   "source": [
    "e = File.read(\"hello\")"
   ]
  },
  {
   "cell_type": "code",
   "execution_count": 109,
   "metadata": {},
   "outputs": [
    {
     "data": {
      "text/plain": [
       "\"foo/bar\""
      ]
     },
     "execution_count": 109,
     "metadata": {},
     "output_type": "execute_result"
    }
   ],
   "source": [
    "Path.join(\"foo\",\"bar\")"
   ]
  },
  {
   "cell_type": "code",
   "execution_count": 110,
   "metadata": {},
   "outputs": [
    {
     "data": {
      "text/plain": [
       "\"/Users/Jarvis/hello\""
      ]
     },
     "execution_count": 110,
     "metadata": {},
     "output_type": "execute_result"
    }
   ],
   "source": [
    "Path.expand(\"~/hello\")"
   ]
  },
  {
   "cell_type": "code",
   "execution_count": 114,
   "metadata": {},
   "outputs": [
    {
     "data": {
      "text/plain": [
       "true"
      ]
     },
     "execution_count": 114,
     "metadata": {},
     "output_type": "execute_result"
    }
   ],
   "source": [
    "# import a module / package\n",
    "\n",
    "# With require, you can call the module's functions with module_name.function_name\n",
    "require(Integer)"
   ]
  },
  {
   "cell_type": "code",
   "execution_count": 112,
   "metadata": {
    "scrolled": true
   },
   "outputs": [
    {
     "data": {
      "text/plain": [
       "true"
      ]
     },
     "execution_count": 112,
     "metadata": {},
     "output_type": "execute_result"
    }
   ],
   "source": [
    "Integer.is_odd(3)"
   ]
  },
  {
   "cell_type": "code",
   "execution_count": 117,
   "metadata": {},
   "outputs": [
    {
     "data": {
      "text/plain": [
       "Integer"
      ]
     },
     "execution_count": 117,
     "metadata": {},
     "output_type": "execute_result"
    }
   ],
   "source": [
    "# With import, you can call the module's functions directly with function_name\n",
    "import Integer"
   ]
  },
  {
   "cell_type": "code",
   "execution_count": 115,
   "metadata": {},
   "outputs": [
    {
     "data": {
      "text/plain": [
       "true"
      ]
     },
     "execution_count": 115,
     "metadata": {},
     "output_type": "execute_result"
    }
   ],
   "source": [
    "is_odd(3)"
   ]
  },
  {
   "cell_type": "code",
   "execution_count": 119,
   "metadata": {},
   "outputs": [
    {
     "name": "stderr",
     "output_type": "stream",
     "text": [
      "\u001b[33mwarning: \u001b[0mredefining module User (current version defined in memory)\n",
      "  nofile:1\n",
      "\n"
     ]
    },
    {
     "data": {
      "text/plain": [
       "{:module, User, <<70, 79, 82, 49, 0, 0, 6, 244, 66, 69, 65, 77, 65, 116, 85, 56, 0, 0, 0, 193, 0, 0, 0, 19, 11, 69, 108, 105, 120, 105, 114, 46, 85, 115, 101, 114, 8, 95, 95, 105, 110, 102, 111, 95, 95, 10, 97, ...>>, %User{age: 29, name: \"John\"}}"
      ]
     },
     "execution_count": 119,
     "metadata": {},
     "output_type": "execute_result"
    }
   ],
   "source": [
    "defmodule User do\n",
    "  defstruct name: \"John\", age: 29\n",
    "end"
   ]
  },
  {
   "cell_type": "code",
   "execution_count": 162,
   "metadata": {},
   "outputs": [
    {
     "name": "stderr",
     "output_type": "stream",
     "text": [
      "\u001b[33mwarning: \u001b[0mredefining module Test (current version defined in memory)\n",
      "  nofile:1\n",
      "\n"
     ]
    },
    {
     "data": {
      "text/plain": [
       "{:module, Test, <<70, 79, 82, 49, 0, 0, 7, 176, 66, 69, 65, 77, 65, 116, 85, 56, 0, 0, 0, 212, 0, 0, 0, 23, 11, 69, 108, 105, 120, 105, 114, 46, 84, 101, 115, 116, 8, 95, 95, 105, 110, 102, 111, 95, 95, 10, 97, ...>>, {:main, 0}}"
      ]
     },
     "execution_count": 162,
     "metadata": {},
     "output_type": "execute_result"
    }
   ],
   "source": [
    "defmodule Test do\n",
    "  require User\n",
    "  \n",
    "  def main do\n",
    "    john = %User{}\n",
    "    IO.inspect(john)\n",
    "    \n",
    "    IO.puts \"Another user\"\n",
    "    \n",
    "    jane = %User{name: \"Jane\"}\n",
    "    IO.inspect(jane)\n",
    "    \n",
    "    jane = %{ jane | age: 31 } # reassignment\n",
    "    IO.inspect(jane)\n",
    "    \n",
    "    IO.puts(\"Jane's age is #{jane.age}.\")\n",
    "    \n",
    "    # illegal. No occ field in struct User\n",
    "    # jane = %{ jane | occ: \"Lawyer\"}\n",
    "  end\n",
    "  \n",
    "end"
   ]
  },
  {
   "cell_type": "code",
   "execution_count": 163,
   "metadata": {
    "scrolled": true
   },
   "outputs": [
    {
     "name": "stdout",
     "output_type": "stream",
     "text": [
      "%User{age: 29, name: \"John\"}\n",
      "Another user\n",
      "%User{age: 29, name: \"Jane\"}\n",
      "%User{age: 31, name: \"Jane\"}\n",
      "Jane's age is 31.\n"
     ]
    },
    {
     "data": {
      "text/plain": [
       ":ok"
      ]
     },
     "execution_count": 163,
     "metadata": {},
     "output_type": "execute_result"
    }
   ],
   "source": [
    "Test.main"
   ]
  },
  {
   "cell_type": "markdown",
   "metadata": {},
   "source": [
    "# Concurrency\n",
    "\n",
    "Put these in iex\n",
    "```shell\n",
    "iex(1)> c(\"./server.ex\")\n",
    "[Server]\n",
    "iex(2)> pid = spawn(Server, :listen, [])\n",
    "#PID<0.115.0>\n",
    "iex(3)> send(pid, {:ok, :ping})\n",
    "Pong!\n",
    "{:ok, :ping}\n",
    "```"
   ]
  }
 ],
 "metadata": {
  "kernelspec": {
   "display_name": "Elixir",
   "language": "Elixir",
   "name": "ielixir"
  },
  "language_info": {
   "codemirror_mode": "elixir",
   "file_extension": "ex",
   "mimetype": "text/x-elixir",
   "name": "elixir",
   "nbconvert_exporter": "",
   "pygments_lexer": "elixir",
   "version": "1.11.2"
  }
 },
 "nbformat": 4,
 "nbformat_minor": 4
}